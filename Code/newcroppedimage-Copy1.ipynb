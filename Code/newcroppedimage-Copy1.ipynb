{
 "cells": [
  {
   "cell_type": "code",
   "execution_count": 3,
   "id": "bf0eaf1c-6426-41fd-b997-c4155166d36c",
   "metadata": {},
   "outputs": [],
   "source": [
    "import os\n",
    "import shutil\n",
    "from sklearn.model_selection import train_test_split\n",
    "\n",
    "# Define paths to your dataset\n",
    "data_dir = \"C:/Users/rmano/OneDrive/Desktop/newdatacropped\"\n",
    "train_dir = \"C:/Users/rmano/OneDrive/Desktop/owndatafolder/train\"\n",
    "test_dir =\"C:/Users/rmano/OneDrive/Desktop/owndatafolder/test\"\n",
    "\n",
    "# Create training and testing directories if they don't exist\n",
    "os.makedirs(train_dir, exist_ok=True)\n",
    "os.makedirs(test_dir, exist_ok=True)\n",
    "\n",
    "# Iterate through each label (0 to 9)\n",
    "for label in range(10):\n",
    "    label_folder = os.path.join(data_dir, str(label))\n",
    "    images = os.listdir(label_folder)\n",
    "    \n",
    "    # Split images into train and test\n",
    "    train_images, test_images = train_test_split(images, test_size=0.2,random_state=42)\n",
    "    \n",
    "    # Move images to respective train and test directories\n",
    "    for img in train_images:\n",
    "        src = os.path.join(label_folder, img)\n",
    "        dst = os.path.join(train_dir, str(label), img)\n",
    "        os.makedirs(os.path.dirname(dst), exist_ok=True)\n",
    "        shutil.copy(src, dst)\n",
    "        \n",
    "    for img in test_images:\n",
    "        src = os.path.join(label_folder, img)\n",
    "        dst = os.path.join(test_dir, str(label), img)\n",
    "        os.makedirs(os.path.dirname(dst), exist_ok=True)\n",
    "        shutil.copy(src, dst)\n",
    "\n"
   ]
  },
  {
   "cell_type": "code",
   "execution_count": 4,
   "id": "bd188c53-d6ba-46e9-9219-5029783aa668",
   "metadata": {},
   "outputs": [],
   "source": [
    "import tensorflow as tf\n",
    "from tensorflow.keras.preprocessing.image import ImageDataGenerator\n",
    "\n",
    "# Define paths to your dataset\n",
    "train_data_dir = 'C:/Users/rmano/OneDrive/Desktop/owndatafolder/train'\n",
    "test_data_dir = 'C:/Users/rmano/OneDrive/Desktop/owndatafolder/test'\n",
    "\n",
    "\n"
   ]
  },
  {
   "cell_type": "code",
   "execution_count": 5,
   "id": "f66bc37f-7210-4718-ac92-c23e8bc2cc92",
   "metadata": {},
   "outputs": [
    {
     "name": "stdout",
     "output_type": "stream",
     "text": [
      "Found 1173 images belonging to 10 classes.\n",
      "Found 382 images belonging to 10 classes.\n",
      "X_train shape: (1173, 150, 150, 3)\n",
      "y_train shape: (1173, 10)\n",
      "X_test shape: (382, 150, 150, 3)\n",
      "y_test shape: (382, 10)\n"
     ]
    }
   ],
   "source": [
    "import tensorflow as tf\n",
    "from tensorflow.keras.preprocessing.image import ImageDataGenerator\n",
    "from tensorflow.keras.models import Sequential\n",
    "from tensorflow.keras.layers import Conv2D, MaxPooling2D, Flatten, Dense, Dropout\n",
    "import numpy as np\n",
    "\n",
    "# Define image dimensions\n",
    "img_width, img_height = 150,150\n",
    "\n",
    "# Create the ImageDataGenerator for grayscale images\n",
    "train_datagen = ImageDataGenerator(rescale=1./255)\n",
    "test_datagen = ImageDataGenerator(rescale=1./255)\n",
    "\n",
    "# Flow from directory for training and testing data\n",
    "train_generator = train_datagen.flow_from_directory(\n",
    "    train_data_dir,\n",
    "    target_size=(img_width, img_height),\n",
    "    batch_size=32,\n",
    "    class_mode='categorical'\n",
    ")\n",
    "\n",
    "validation_generator = test_datagen.flow_from_directory(\n",
    "    test_data_dir,\n",
    "    target_size=(img_width, img_height),\n",
    "    batch_size=32,\n",
    "    class_mode='categorical'\n",
    ")\n",
    "# Extract data from the generators\n",
    "def extract_data(generator):\n",
    "    X, y = [], []\n",
    "    for _ in range(len(generator)):\n",
    "        images, labels = next(generator)\n",
    "        X.extend(images)\n",
    "        y.extend(labels)\n",
    "    return np.array(X), np.array(y)\n",
    "\n",
    "# Convert training and validation data to numpy arrays\n",
    "X_train, y_train = extract_data(train_generator)\n",
    "X_test, y_test = extract_data(validation_generator)\n",
    "# Verify the shapes of the extracted data\n",
    "print(f'X_train shape: {X_train.shape}')\n",
    "print(f'y_train shape: {y_train.shape}')\n",
    "print(f'X_test shape: {X_test.shape}')\n",
    "print(f'y_test shape: {y_test.shape}')\n",
    "\n"
   ]
  },
  {
   "cell_type": "code",
   "execution_count": 6,
   "id": "8ab2463f-565d-468b-99d5-fe9ea691c19e",
   "metadata": {},
   "outputs": [
    {
     "name": "stderr",
     "output_type": "stream",
     "text": [
      "C:\\Users\\rmano\\anaconda3\\Lib\\site-packages\\keras\\src\\layers\\convolutional\\base_conv.py:107: UserWarning: Do not pass an `input_shape`/`input_dim` argument to a layer. When using Sequential models, prefer using an `Input(shape)` object as the first layer in the model instead.\n",
      "  super().__init__(activity_regularizer=activity_regularizer, **kwargs)\n"
     ]
    },
    {
     "name": "stdout",
     "output_type": "stream",
     "text": [
      "Epoch 1/10\n"
     ]
    },
    {
     "name": "stderr",
     "output_type": "stream",
     "text": [
      "C:\\Users\\rmano\\anaconda3\\Lib\\site-packages\\keras\\src\\trainers\\data_adapters\\py_dataset_adapter.py:121: UserWarning: Your `PyDataset` class should call `super().__init__(**kwargs)` in its constructor. `**kwargs` can include `workers`, `use_multiprocessing`, `max_queue_size`. Do not pass these arguments to `fit()`, as they will be ignored.\n",
      "  self._warn_if_super_not_called()\n"
     ]
    },
    {
     "name": "stdout",
     "output_type": "stream",
     "text": [
      "\u001b[1m36/36\u001b[0m \u001b[32m━━━━━━━━━━━━━━━━━━━━\u001b[0m\u001b[37m\u001b[0m \u001b[1m35s\u001b[0m 845ms/step - accuracy: 0.3751 - loss: 1.9248 - precision: 0.6314 - recall: 0.2482 - val_accuracy: 0.9062 - val_loss: 0.1747 - val_precision: 0.9327 - val_recall: 0.9062\n",
      "Epoch 2/10\n",
      "\u001b[1m 1/36\u001b[0m \u001b[37m━━━━━━━━━━━━━━━━━━━━\u001b[0m \u001b[1m25s\u001b[0m 730ms/step - accuracy: 0.9375 - loss: 0.1776 - precision: 0.9355 - recall: 0.9062"
     ]
    },
    {
     "name": "stderr",
     "output_type": "stream",
     "text": [
      "C:\\Users\\rmano\\anaconda3\\Lib\\contextlib.py:158: UserWarning: Your input ran out of data; interrupting training. Make sure that your dataset or generator can generate at least `steps_per_epoch * epochs` batches. You may need to use the `.repeat()` function when building your dataset.\n",
      "  self.gen.throw(typ, value, traceback)\n"
     ]
    },
    {
     "name": "stdout",
     "output_type": "stream",
     "text": [
      "\u001b[1m36/36\u001b[0m \u001b[32m━━━━━━━━━━━━━━━━━━━━\u001b[0m\u001b[37m\u001b[0m \u001b[1m1s\u001b[0m 8ms/step - accuracy: 0.9375 - loss: 0.1776 - precision: 0.9355 - recall: 0.9062 - val_accuracy: 0.9667 - val_loss: 0.0787 - val_precision: 0.9667 - val_recall: 0.9667\n",
      "Epoch 3/10\n",
      "\u001b[1m36/36\u001b[0m \u001b[32m━━━━━━━━━━━━━━━━━━━━\u001b[0m\u001b[37m\u001b[0m \u001b[1m27s\u001b[0m 746ms/step - accuracy: 0.9553 - loss: 0.1471 - precision: 0.9579 - recall: 0.9468 - val_accuracy: 0.9972 - val_loss: 0.0083 - val_precision: 0.9972 - val_recall: 0.9972\n",
      "Epoch 4/10\n",
      "\u001b[1m36/36\u001b[0m \u001b[32m━━━━━━━━━━━━━━━━━━━━\u001b[0m\u001b[37m\u001b[0m \u001b[1m1s\u001b[0m 6ms/step - accuracy: 1.0000 - loss: 0.0181 - precision: 1.0000 - recall: 1.0000 - val_accuracy: 1.0000 - val_loss: 0.0034 - val_precision: 1.0000 - val_recall: 1.0000\n",
      "Epoch 5/10\n",
      "\u001b[1m36/36\u001b[0m \u001b[32m━━━━━━━━━━━━━━━━━━━━\u001b[0m\u001b[37m\u001b[0m \u001b[1m28s\u001b[0m 779ms/step - accuracy: 0.9790 - loss: 0.0717 - precision: 0.9806 - recall: 0.9783 - val_accuracy: 0.9943 - val_loss: 0.0130 - val_precision: 0.9943 - val_recall: 0.9943\n",
      "Epoch 6/10\n",
      "\u001b[1m36/36\u001b[0m \u001b[32m━━━━━━━━━━━━━━━━━━━━\u001b[0m\u001b[37m\u001b[0m \u001b[1m1s\u001b[0m 6ms/step - accuracy: 0.9375 - loss: 0.0825 - precision: 0.9375 - recall: 0.9375 - val_accuracy: 1.0000 - val_loss: 0.0014 - val_precision: 1.0000 - val_recall: 1.0000\n",
      "Epoch 7/10\n",
      "\u001b[1m36/36\u001b[0m \u001b[32m━━━━━━━━━━━━━━━━━━━━\u001b[0m\u001b[37m\u001b[0m \u001b[1m27s\u001b[0m 747ms/step - accuracy: 0.9989 - loss: 0.0096 - precision: 0.9989 - recall: 0.9989 - val_accuracy: 1.0000 - val_loss: 4.9645e-04 - val_precision: 1.0000 - val_recall: 1.0000\n",
      "Epoch 8/10\n",
      "\u001b[1m36/36\u001b[0m \u001b[32m━━━━━━━━━━━━━━━━━━━━\u001b[0m\u001b[37m\u001b[0m \u001b[1m1s\u001b[0m 7ms/step - accuracy: 1.0000 - loss: 0.0046 - precision: 1.0000 - recall: 1.0000 - val_accuracy: 1.0000 - val_loss: 4.1565e-04 - val_precision: 1.0000 - val_recall: 1.0000\n",
      "Epoch 9/10\n",
      "\u001b[1m36/36\u001b[0m \u001b[32m━━━━━━━━━━━━━━━━━━━━\u001b[0m\u001b[37m\u001b[0m \u001b[1m27s\u001b[0m 736ms/step - accuracy: 1.0000 - loss: 0.0013 - precision: 1.0000 - recall: 1.0000 - val_accuracy: 1.0000 - val_loss: 3.8959e-05 - val_precision: 1.0000 - val_recall: 1.0000\n",
      "Epoch 10/10\n",
      "\u001b[1m36/36\u001b[0m \u001b[32m━━━━━━━━━━━━━━━━━━━━\u001b[0m\u001b[37m\u001b[0m \u001b[1m1s\u001b[0m 6ms/step - accuracy: 1.0000 - loss: 1.0788e-04 - precision: 1.0000 - recall: 1.0000 - val_accuracy: 1.0000 - val_loss: 3.1647e-05 - val_precision: 1.0000 - val_recall: 1.0000\n"
     ]
    },
    {
     "data": {
      "text/plain": [
       "<keras.src.callbacks.history.History at 0x1efad77d450>"
      ]
     },
     "execution_count": 6,
     "metadata": {},
     "output_type": "execute_result"
    }
   ],
   "source": [
    "import tensorflow as tf\n",
    "from tensorflow.keras.models import Sequential\n",
    "from tensorflow.keras.layers import Conv2D, MaxPooling2D, Flatten, Dense, Dropout\n",
    "from tensorflow.keras.regularizers import l1, l2, l1_l2\n",
    "from tensorflow.keras.preprocessing.image import ImageDataGenerator\n",
    "\n",
    "# Define the image dimensions\n",
    "img_width, img_height = 150, 150\n",
    "\n",
    "# Define the model\n",
    "model = Sequential()\n",
    "model.add(Conv2D(32, (3, 3), activation='relu', input_shape=(img_width, img_height, 3)))\n",
    "model.add(MaxPooling2D(pool_size=(2, 2)))\n",
    "model.add(Conv2D(64, (3, 3), activation='relu'))\n",
    "model.add(MaxPooling2D(pool_size=(2, 2)))\n",
    "model.add(Conv2D(128, (3, 3), activation='relu'))\n",
    "model.add(MaxPooling2D(pool_size=(2, 2)))\n",
    "model.add(Flatten())\n",
    "model.add(Dense(512, activation='relu'))\n",
    "model.add(Dropout(0.5))\n",
    "model.add(Dense(train_generator.num_classes, activation='softmax'))\n",
    "\n",
    "# Compile the model\n",
    "model.compile(optimizer='adam', \n",
    "              loss='categorical_crossentropy', \n",
    "              metrics=['accuracy', tf.keras.metrics.Precision(), tf.keras.metrics.Recall()])\n",
    "\n",
    "# Train the model\n",
    "model.fit(\n",
    "    train_generator,\n",
    "    steps_per_epoch=train_generator.samples // train_generator.batch_size,\n",
    "    validation_data=validation_generator,\n",
    "    validation_steps=validation_generator.samples // validation_generator.batch_size,\n",
    "    epochs=10\n",
    ")\n"
   ]
  },
  {
   "cell_type": "code",
   "execution_count": 7,
   "id": "8de76937-0095-4ba3-8a11-c4d12534e6d9",
   "metadata": {},
   "outputs": [],
   "source": [
    "model.save('my_model_final.keras')\n"
   ]
  },
  {
   "cell_type": "code",
   "execution_count": 8,
   "id": "cb0a22e3-fc81-42a0-8cd7-46dd995819c3",
   "metadata": {},
   "outputs": [],
   "source": [
    "from tensorflow.keras.models import load_model\n",
    "\n",
    "model=load_model(\"my_model_final.keras\")"
   ]
  },
  {
   "cell_type": "code",
   "execution_count": 10,
   "id": "2971ca4b-0872-45e4-95db-8e03aadbd4e1",
   "metadata": {},
   "outputs": [
    {
     "data": {
      "image/png": "[encoded data removed]",
      "text/plain": [
       "<Figure size 640x480 with 1 Axes>"
      ]
     },
     "metadata": {},
     "output_type": "display_data"
    },
    {
     "name": "stdout",
     "output_type": "stream",
     "text": [
      "\u001b[1m1/1\u001b[0m \u001b[32m━━━━━━━━━━━━━━━━━━━━\u001b[0m\u001b[37m\u001b[0m \u001b[1m0s\u001b[0m 190ms/step\n",
      "[[6.1244704e-05 9.3736116e-06 2.9861735e-04 9.8983401e-05 1.5293568e-04\n",
      "  7.6621535e-07 2.2332159e-04 9.9857414e-01 5.7948416e-04 1.0965588e-06]]\n",
      "The predicted class is: 7\n"
     ]
    }
   ],
   "source": [
    "import cv2\n",
    "import numpy as np\n",
    "from matplotlib import pyplot as plt\n",
    "from tensorflow.keras.preprocessing import image\n",
    "from tensorflow.keras.models import load_model\n",
    "\n",
    "# Preprocess and predict function\n",
    "def preprocess_and_predict_image(model, img_path, target_size):\n",
    "    # Read the image using OpenCV in grayscale mode\n",
    "    test_image = cv2.imread(img_path, cv2.IMREAD_GRAYSCALE)\n",
    "    \n",
    "    # Resize the image to the target size\n",
    "    img_resized = cv2.resize(test_image, target_size, interpolation=cv2.INTER_AREA)\n",
    "    \n",
    "    # Invert the image if necessary\n",
    "    img_resized = cv2.bitwise_not(img_resized)\n",
    "    \n",
    "    # Convert the grayscale image to RGB by duplicating the single channel\n",
    "    img_rgb = cv2.cvtColor(img_resized, cv2.COLOR_GRAY2RGB)\n",
    "    plt.imshow(img_rgb)\n",
    "    \n",
    "    # Display the preprocessed image (optional)\n",
    "    plt.imshow(img_rgb)\n",
    "    plt.show()\n",
    "    \n",
    "    # Normalize the image\n",
    "    img_rgb = img_rgb / 255.0\n",
    "    \n",
    "    # Add the batch dimension\n",
    "    img_rgb = np.expand_dims(img_rgb, axis=0)\n",
    "    \n",
    "    # Predict the class\n",
    "    prediction = model.predict(img_rgb)\n",
    "    print(prediction)\n",
    "    predicted_class = np.argmax(prediction, axis=1)\n",
    "    \n",
    "    return predicted_class\n",
    "\n",
    "# Define the target size (should be the same as the input size of the model)\n",
    "img_width, img_height = 150, 150 # Update these values as needed\n",
    "target_size = (img_width, img_height)\n",
    "\n",
    "# Path to the user-provided image\n",
    "img_path=\"C:/Users/rmano/OneDrive/Pictures/Screenshots/Screenshot 2024-06-26 192310.png\"\n",
    "\n",
    "# Load the trained model (if not already loaded)\n",
    "model = load_model(\"my_model_final.keras\")  # Update the path to your model\n",
    "\n",
    "# Predict the class\n",
    "predicted_class = preprocess_and_predict_image(model, img_path, target_size)\n",
    "\n",
    "# Assuming train_generator is already defined and trained\n",
    "# Map the predicted class index to the actual class label\n",
    "class_labels = list(train_generator.class_indices.keys())\n",
    "predicted_label = class_labels[predicted_class[0]]\n",
    "\n",
    "print(f\"The predicted class is: {predicted_label}\")\n"
   ]
  },
  {
   "cell_type": "code",
   "execution_count": 11,
   "id": "9d39ed58-d617-4911-8381-7a248f44859c",
   "metadata": {},
   "outputs": [
    {
     "name": "stdout",
     "output_type": "stream",
     "text": [
      "\u001b[1m1/1\u001b[0m \u001b[32m━━━━━━━━━━━━━━━━━━━━\u001b[0m\u001b[37m\u001b[0m \u001b[1m0s\u001b[0m 326ms/step\n",
      "\u001b[1m1/1\u001b[0m \u001b[32m━━━━━━━━━━━━━━━━━━━━\u001b[0m\u001b[37m\u001b[0m \u001b[1m0s\u001b[0m 213ms/step\n",
      "\u001b[1m1/1\u001b[0m \u001b[32m━━━━━━━━━━━━━━━━━━━━\u001b[0m\u001b[37m\u001b[0m \u001b[1m0s\u001b[0m 198ms/step\n",
      "\u001b[1m1/1\u001b[0m \u001b[32m━━━━━━━━━━━━━━━━━━━━\u001b[0m\u001b[37m\u001b[0m \u001b[1m0s\u001b[0m 143ms/step\n",
      "\u001b[1m1/1\u001b[0m \u001b[32m━━━━━━━━━━━━━━━━━━━━\u001b[0m\u001b[37m\u001b[0m \u001b[1m0s\u001b[0m 151ms/step\n",
      "\u001b[1m1/1\u001b[0m \u001b[32m━━━━━━━━━━━━━━━━━━━━\u001b[0m\u001b[37m\u001b[0m \u001b[1m0s\u001b[0m 153ms/step\n",
      "\u001b[1m1/1\u001b[0m \u001b[32m━━━━━━━━━━━━━━━━━━━━\u001b[0m\u001b[37m\u001b[0m \u001b[1m0s\u001b[0m 126ms/step\n",
      "\u001b[1m1/1\u001b[0m \u001b[32m━━━━━━━━━━━━━━━━━━━━\u001b[0m\u001b[37m\u001b[0m \u001b[1m0s\u001b[0m 126ms/step\n",
      "\u001b[1m1/1\u001b[0m \u001b[32m━━━━━━━━━━━━━━━━━━━━\u001b[0m\u001b[37m\u001b[0m \u001b[1m0s\u001b[0m 156ms/step\n",
      "\u001b[1m1/1\u001b[0m \u001b[32m━━━━━━━━━━━━━━━━━━━━\u001b[0m\u001b[37m\u001b[0m \u001b[1m0s\u001b[0m 158ms/step\n",
      "\u001b[1m1/1\u001b[0m \u001b[32m━━━━━━━━━━━━━━━━━━━━\u001b[0m\u001b[37m\u001b[0m \u001b[1m0s\u001b[0m 126ms/step\n",
      "\u001b[1m1/1\u001b[0m \u001b[32m━━━━━━━━━━━━━━━━━━━━\u001b[0m\u001b[37m\u001b[0m \u001b[1m0s\u001b[0m 161ms/step\n",
      "Confusion Matrix:\n",
      "[[45  0  0  0  0  0  0  0  0  0]\n",
      " [ 0 43  0  0  0  0  0  0  0  0]\n",
      " [ 0  0 34  0  0  0  0  0  0  0]\n",
      " [ 0  0  0 40  0  0  0  0  0  0]\n",
      " [ 0  0  0  0 36  0  0  0  0  0]\n",
      " [ 0  0  0  0  0 39  0  0  0  0]\n",
      " [ 0  0  0  0  0  0 27  0  0  0]\n",
      " [ 0  0  0  0  0  0  0 49  0  0]\n",
      " [ 0  0  0  0  0  0  0  0 34  0]\n",
      " [ 0  0  0  0  0  0  0  0  0 35]]\n"
     ]
    },
    {
     "data": {
      "image/png": "[encoded data removed]",
      "text/plain": [
       "<Figure size 1000x800 with 2 Axes>"
      ]
     },
     "metadata": {},
     "output_type": "display_data"
    }
   ],
   "source": [
    "from sklearn.metrics import confusion_matrix\n",
    "import seaborn as sns\n",
    "# Collect true labels and predicted labels for test images\n",
    "true_labels = []\n",
    "predicted_labels = []\n",
    "\n",
    "# Assuming test_generator is already defined and provides batches of test images\n",
    "for i in range(len(validation_generator)):\n",
    "    x_batch, y_batch = validation_generator[i]\n",
    "    y_true = np.argmax(y_batch, axis=1)\n",
    "    y_pred = np.argmax(model.predict(x_batch), axis=1)\n",
    "    true_labels.extend(y_true)\n",
    "    predicted_labels.extend(y_pred)\n",
    "\n",
    "# Generate the confusion matrix\n",
    "conf_matrix = confusion_matrix(true_labels, predicted_labels)\n",
    "\n",
    "# Display the confusion matrix\n",
    "print(\"Confusion Matrix:\")\n",
    "print(conf_matrix)\n",
    "\n",
    "# Visualize the confusion matrix\n",
    "plt.figure(figsize=(10, 8))\n",
    "sns.heatmap(conf_matrix, annot=True, fmt='d', cmap='Blues', xticklabels=class_labels, yticklabels=class_labels)\n",
    "plt.xlabel('Predicted Label')\n",
    "plt.ylabel('True Label')\n",
    "plt.title('Confusion Matrix')\n",
    "plt.show()"
   ]
  },
  {
   "cell_type": "code",
   "execution_count": 12,
   "id": "bb4edebb-4baf-4fd2-8e9f-9d80622b6e96",
   "metadata": {},
   "outputs": [],
   "source": [
    "import pickle\n",
    "\n",
    "# Specify the filename\n",
    "filename = 'digit.pkl'\n",
    "\n",
    "# Open a file in binary mode and write the model to it\n",
    "with open(filename, 'wb') as file:\n",
    "    pickle.dump(model,file)"
   ]
  },
  {
   "cell_type": "code",
   "execution_count": null,
   "id": "42093c11-e8f3-4535-aa2f-bfbbafbdb764",
   "metadata": {},
   "outputs": [],
   "source": []
  }
 ],
 "metadata": {
  "kernelspec": {
   "display_name": "Python 3 (ipykernel)",
   "language": "python",
   "name": "python3"
  },
  "language_info": {
   "codemirror_mode": {
    "name": "ipython",
    "version": 3
   },
   "file_extension": ".py",
   "mimetype": "text/x-python",
   "name": "python",
   "nbconvert_exporter": "python",
   "pygments_lexer": "ipython3",
   "version": "3.11.7"
  }
 },
 "nbformat": 4,
 "nbformat_minor": 5
}
